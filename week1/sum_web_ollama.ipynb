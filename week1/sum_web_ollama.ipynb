{
 "cells": [
  {
   "cell_type": "code",
   "execution_count": 18,
   "id": "2df71d75-5805-47f4-8bb0-0a892b572330",
   "metadata": {},
   "outputs": [
    {
     "data": {
      "text/markdown": [
       "# Website Summary\n",
       "\n",
       "The website is owned by Edward Donner, a co-founder and CTO of Nebula.io. The platform leverages Large Language Models (LLMs) to help people discover their potential.\n",
       "\n",
       "## Recent News and Announcements\n",
       "\n",
       "* **January 23, 2025:** LLM Workshop – Hands-on with Agents – resources\n",
       "* **December 21, 2024:** Welcome, SuperDataScientists!\n",
       "* **November 13, 2024:** Mastering AI and LLM Engineering – Resources\n",
       "* **October 16, 2024:** From Software Engineer to AI Data Scientist – resources\n",
       "\n",
       "This website primarily focuses on Edward Donner's personal story, industry involvement with AI, and the work of his company Nebula.io."
      ],
      "text/plain": [
       "<IPython.core.display.Markdown object>"
      ]
     },
     "metadata": {},
     "output_type": "display_data"
    },
    {
     "data": {
      "text/markdown": [
       "# Google Website Summary\n",
       "\n",
       "## Overview\n",
       "The Google website appears to be a general overview page with various links that take users to different sections of the site.\n",
       "\n",
       "### Notable Sections:\n",
       "\n",
       "* **News/Announcements**: Google's commitment to climate action is showcased through a statement promoting their third decade of sustainability efforts.\n",
       "### Content:\n",
       "There are no notable updates or announcements on current news, and only minor configuration options like default dark theme settings.\n",
       "\n",
       "## Key Features/Topics\n",
       "\n",
       "* Search engine services\n",
       "* Productivity tools (e.g. Gmail)\n",
       "* Advertising and business solutions\n",
       "* Artificial intelligence capabilities (mentioned in \"How Search works\" and other relevant sections)\n",
       "\n",
       "Note that this summary is based on the provided content and might not be comprehensive, as some sections like advertising may require further examination for specific product offerings or updates."
      ],
      "text/plain": [
       "<IPython.core.display.Markdown object>"
      ]
     },
     "metadata": {},
     "output_type": "display_data"
    }
   ],
   "source": [
    "# imports\n",
    "\n",
    "import os\n",
    "import requests\n",
    "from dotenv import load_dotenv\n",
    "from bs4 import BeautifulSoup\n",
    "from IPython.display import Markdown, display\n",
    "from openai import OpenAI\n",
    "\n",
    "# Constants\n",
    "MODEL = \"llama3.2\"\n",
    "headers = {\n",
    " \"User-Agent\": \"Mozilla/5.0 (Windows NT 10.0; Win64; x64) AppleWebKit/537.36 (KHTML, like Gecko) Chrome/117.0.0.0 Safari/537.36\"\n",
    "}\n",
    "\n",
    "\n",
    "ollama_via_openai = OpenAI(base_url='http://localhost:11434/v1', api_key='ollama')\n",
    "\n",
    "\n",
    "\n",
    "class Website:\n",
    "\n",
    "    def __init__(self, url):\n",
    "        \"\"\"\n",
    "        Create this Website object from the given url using the BeautifulSoup library\n",
    "        \"\"\"\n",
    "        self.url = url\n",
    "        response = requests.get(url, headers=headers)\n",
    "        soup = BeautifulSoup(response.content, 'html.parser')\n",
    "        self.title = soup.title.string if soup.title else \"No title found\"\n",
    "        for irrelevant in soup.body([\"script\", \"style\", \"img\", \"input\"]):\n",
    "            irrelevant.decompose()\n",
    "        self.text = soup.body.get_text(separator=\"\\n\", strip=True)\n",
    "        \n",
    "# A function that writes a User Prompt that asks for summaries of websites:\n",
    "def user_prompt_for(website):\n",
    "    user_prompt = f\"You are looking at a website titled {website.title}\"\n",
    "    user_prompt += \"\\nThe contents of this website is as follows; \\\n",
    "please provide a short summary of this website in markdown. \\\n",
    "If it includes news or announcements, then summarize these too.\\n\\n\"\n",
    "    user_prompt += website.text\n",
    "    return user_prompt\n",
    "\n",
    "system_prompt = \"You are an assistant that analyzes the contents of a website \\\n",
    "and provides a short summary, ignoring text that might be navigation related. \\\n",
    "Respond in markdown.\"\n",
    "\n",
    "def messages_for(website):\n",
    "    return [\n",
    "        {\"role\": \"system\", \"content\": system_prompt},\n",
    "        {\"role\": \"user\", \"content\": user_prompt_for(website)}\n",
    "    ]\n",
    "\n",
    "def summarize(url):\n",
    "    website = Website(url)\n",
    "    response = ollama_via_openai.chat.completions.create(\n",
    "        model = MODEL,\n",
    "        messages = messages_for(website)\n",
    "    )\n",
    "    return response.choices[0].message.content\n",
    "\n",
    "\n",
    "# A function to display this nicely in the Jupyter output, using markdown\n",
    "def display_summary(url):\n",
    "    summary = summarize(url)\n",
    "    display(Markdown(summary))\n",
    "    \n",
    "display_summary(\"https://edwarddonner.com\")\n",
    "display_summary(\"https://google.com\")\n"
   ]
  }
 ],
 "metadata": {
  "kernelspec": {
   "display_name": "Python [conda env:base] *",
   "language": "python",
   "name": "conda-base-py"
  },
  "language_info": {
   "codemirror_mode": {
    "name": "ipython",
    "version": 3
   },
   "file_extension": ".py",
   "mimetype": "text/x-python",
   "name": "python",
   "nbconvert_exporter": "python",
   "pygments_lexer": "ipython3",
   "version": "3.12.7"
  },
  "panel-cell-order": [
   "705b417e-07c6-4cca-8a81-6625baeb9d52"
  ]
 },
 "nbformat": 4,
 "nbformat_minor": 5
}
